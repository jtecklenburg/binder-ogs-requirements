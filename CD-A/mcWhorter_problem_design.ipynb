{
 "cells": [
  {
   "cell_type": "markdown",
   "metadata": {},
   "source": [
    "# McWhorter Problem\n",
    "<cite>[McWhorter and Sunada][1]</cite> propose an analytical solution to the two-phase flow equation. A one-dimensional problem was considered which describes the flow of two incompressible, immiscible fluids through a porous medium, where the wetting phase (water) displaces the non-wetting fluid (air or oil) in the horizontal direction (without the influence of gravity).\n",
    "\n",
    "![mcWhorter_concept_schematic.png](figures/mcWhorter_concept.png)\n",
    "\n",
    "[1]: https://doi.org/10.1029/WR026i003p00399"
   ]
  },
  {
   "cell_type": "markdown",
   "metadata": {},
   "source": [
    "### Material and Problem parameter\n",
    "\n",
    "The parameter for this problem are stored in a CSV file. Let's look at the table below. The column \"Key\" shows the parameter name in the PRJ file. The column \"Value\" shows current parameter value. The columns \"Range min\", \"Range max\" and \"Scale\" are used in the next section to define sliders to interact with the analytic solution."
   ]
  },
  {
   "cell_type": "code",
   "execution_count": 2,
   "metadata": {},
   "outputs": [
    {
     "data": {
      "text/html": [
       "\n",
       "        <script type=\"text/javascript\" async\n",
       "            src=\"https://cdnjs.cloudflare.com/ajax/libs/mathjax/2.7.7/MathJax.js?config=TeX-MML-AM_CHTML\">\n",
       "        </script>\n",
       "        <table border=\"1\" class=\"dataframe\">\n",
       "  <thead>\n",
       "    <tr style=\"text-align: right;\">\n",
       "      <th>Property</th>\n",
       "      <th>Symbol</th>\n",
       "      <th>Key</th>\n",
       "      <th>Value</th>\n",
       "      <th>Range min</th>\n",
       "      <th>Range max</th>\n",
       "      <th>Scale</th>\n",
       "      <th>Unit</th>\n",
       "    </tr>\n",
       "  </thead>\n",
       "  <tbody>\n",
       "    <tr>\n",
       "      <td>Porosity</td>\n",
       "      <td><div style='text-align: center;'>$$ \\varphi $$</div></td>\n",
       "      <td>phi</td>\n",
       "      <td>0.3</td>\n",
       "      <td>0.05</td>\n",
       "      <td>0.3</td>\n",
       "      <td>linear</td>\n",
       "      <td>1</td>\n",
       "    </tr>\n",
       "    <tr>\n",
       "      <td>Intrinsic permeability</td>\n",
       "      <td><div style='text-align: center;'>$$ K $$</div></td>\n",
       "      <td>K</td>\n",
       "      <td>1.0000e-10</td>\n",
       "      <td>1.0000e-12</td>\n",
       "      <td>1.0000e-08</td>\n",
       "      <td>log</td>\n",
       "      <td>m²</td>\n",
       "    </tr>\n",
       "    <tr>\n",
       "      <td>Residual saturation of the wetting phase</td>\n",
       "      <td><div style='text-align: center;'>$$ S_\\mathrm{w,r} $$</div></td>\n",
       "      <td>Swr</td>\n",
       "      <td>0.02</td>\n",
       "      <td>0.0</td>\n",
       "      <td>0.3</td>\n",
       "      <td>linear</td>\n",
       "      <td>1</td>\n",
       "    </tr>\n",
       "    <tr>\n",
       "      <td>Residual saturation of the non-wetting phase</td>\n",
       "      <td><div style='text-align: center;'>$$ S_\\mathrm{n,r} $$</div></td>\n",
       "      <td>Snr</td>\n",
       "      <td>0.001</td>\n",
       "      <td>0.0</td>\n",
       "      <td>0.3</td>\n",
       "      <td>linear</td>\n",
       "      <td>1</td>\n",
       "    </tr>\n",
       "    <tr>\n",
       "      <td>Dynamic viscosity of the wetting phase</td>\n",
       "      <td><div style='text-align: center;'>$$ \\mu_\\mathrm{n} $$</div></td>\n",
       "      <td>mun</td>\n",
       "      <td>0.001</td>\n",
       "      <td>0.0001</td>\n",
       "      <td>0.01</td>\n",
       "      <td>log</td>\n",
       "      <td>Pa&middot;s</td>\n",
       "    </tr>\n",
       "    <tr>\n",
       "      <td>Dynamic viscosity of the non-wetting pha</td>\n",
       "      <td><div style='text-align: center;'>$$ \\mu_\\mathrm{w} $$</div></td>\n",
       "      <td>muw</td>\n",
       "      <td>0.001</td>\n",
       "      <td>0.0001</td>\n",
       "      <td>0.01</td>\n",
       "      <td>log</td>\n",
       "      <td>Pa&middot;s</td>\n",
       "    </tr>\n",
       "    <tr>\n",
       "      <td>Brooks and Corey model parameter: entry pressure</td>\n",
       "      <td><div style='text-align: center;'>$$ p_\\mathrm{e} $$</div></td>\n",
       "      <td>Pe</td>\n",
       "      <td>5000</td>\n",
       "      <td>1000</td>\n",
       "      <td>100000</td>\n",
       "      <td>log</td>\n",
       "      <td>Pa</td>\n",
       "    </tr>\n",
       "    <tr>\n",
       "      <td>Brooks and Corey model parameter: pore size distribution index</td>\n",
       "      <td><div style='text-align: center;'>$$ \\lambda $$</div></td>\n",
       "      <td>lambda_</td>\n",
       "      <td>3</td>\n",
       "      <td>1.5</td>\n",
       "      <td>3</td>\n",
       "      <td>linear</td>\n",
       "      <td>1</td>\n",
       "    </tr>\n",
       "    <tr>\n",
       "      <td>Initial saturation</td>\n",
       "      <td><div style='text-align: center;'>$$ S_\\mathrm{w}(t=0) $$</div></td>\n",
       "      <td>Si</td>\n",
       "      <td>0.2</td>\n",
       "      <td>0.0</td>\n",
       "      <td>0.5</td>\n",
       "      <td>linear</td>\n",
       "      <td>1</td>\n",
       "    </tr>\n",
       "    <tr>\n",
       "      <td>Injection boundary saturation</td>\n",
       "      <td><div style='text-align: center;'>$$ S_\\mathrm{w}(x=0) $$</div></td>\n",
       "      <td>S0</td>\n",
       "      <td>0.9</td>\n",
       "      <td>0.51</td>\n",
       "      <td>1</td>\n",
       "      <td>linear</td>\n",
       "      <td>1</td>\n",
       "    </tr>\n",
       "  </tbody>\n",
       "</table>"
      ],
      "text/plain": [
       "<IPython.core.display.HTML object>"
      ]
     },
     "metadata": {},
     "output_type": "display_data"
    },
    {
     "data": {
      "application/javascript": "\n        if (window.MathJax) {\n            MathJax.Hub.Queue([\"Typeset\", MathJax.Hub]);\n        }\n    ",
      "text/plain": [
       "<IPython.core.display.Javascript object>"
      ]
     },
     "metadata": {},
     "output_type": "display_data"
    }
   ],
   "source": [
    "from helper import render_latex_table\n",
    "import pandas as pd\n",
    "\n",
    "df = pd.read_csv(\"parameter.csv\", quotechar=\"'\")\n",
    "\n",
    "# We look at this column later\n",
    "df_OGSTools = df[[\"Key\", \"OGSTools\"]]\n",
    "df.drop('OGSTools', axis=1, inplace=True)\n",
    "\n",
    "render_latex_table(df, latex_column=\"Symbol\")"
   ]
  },
  {
   "cell_type": "code",
   "execution_count": null,
   "metadata": {},
   "outputs": [
    {
     "name": "stdout",
     "output_type": "stream",
     "text": [
      "[[ 1. -1.  1.  1.  1. -1. -1. -1.  1. -1.]\n",
      " [-1.  1.  1.  1. -1. -1. -1.  1. -1. -1.]\n",
      " [ 1.  1.  1. -1. -1. -1.  1. -1. -1.  1.]\n",
      " [ 1.  1. -1. -1. -1.  1. -1. -1.  1. -1.]\n",
      " [ 1. -1. -1. -1.  1. -1. -1.  1. -1.  1.]\n",
      " [-1. -1. -1.  1. -1. -1.  1. -1.  1.  1.]\n",
      " [-1. -1.  1. -1. -1.  1. -1.  1.  1.  1.]\n",
      " [-1.  1. -1. -1.  1. -1.  1.  1.  1. -1.]\n",
      " [ 1. -1. -1.  1. -1.  1.  1.  1. -1. -1.]\n",
      " [-1. -1.  1. -1.  1.  1.  1. -1. -1. -1.]\n",
      " [-1.  1. -1.  1.  1.  1. -1. -1. -1.  1.]\n",
      " [ 1.  1.  1.  1.  1.  1.  1.  1.  1.  1.]]\n",
      "\n",
      "There are 10 parameters and 12 simulation runs.\n"
     ]
    }
   ],
   "source": [
    "!pip install pyDOE3\n",
    "\n",
    "from pyDOE3 import pbdesign\n",
    "import numpy as np\n",
    "\n",
    "num_parameter = df.shape[0]\n",
    "design = pbdesign(num_parameter)\n",
    "\n",
    "num_simulation = np.shape(design)[0]\n",
    "\n",
    "parameter = df[\"Key\"]\n",
    "value_min = df[\"Range min\"]\n",
    "value_max = df[\"Range max\"]\n",
    "\n",
    "print(design)\n",
    "\n",
    "\n",
    "print(f\"\\nThere are {num_parameter} parameters and {num_simulation} simulation runs.\") "
   ]
  },
  {
   "cell_type": "code",
   "execution_count": null,
   "metadata": {},
   "outputs": [
    {
     "name": "stdout",
     "output_type": "stream",
     "text": [
      "{'phi': 0.3, 'K': 1e-12, 'Swr': 0.3, 'Snr': 0.3, 'mun': 0.01, 'muw': 0.0001, 'Pe': 1000.0, 'lambda_': 1.5, 'Si': 0.5, 'S0': 0.51}\n",
      "{'phi': 0.05, 'K': 1e-08, 'Swr': 0.3, 'Snr': 0.3, 'mun': 0.0001, 'muw': 0.0001, 'Pe': 1000.0, 'lambda_': 3.0, 'Si': 0.0, 'S0': 0.51}\n",
      "{'phi': 0.3, 'K': 1e-08, 'Swr': 0.3, 'Snr': 0.0, 'mun': 0.0001, 'muw': 0.0001, 'Pe': 100000.0, 'lambda_': 1.5, 'Si': 0.0, 'S0': 1.0}\n",
      "{'phi': 0.3, 'K': 1e-08, 'Swr': 0.0, 'Snr': 0.0, 'mun': 0.0001, 'muw': 0.01, 'Pe': 1000.0, 'lambda_': 1.5, 'Si': 0.5, 'S0': 0.51}\n",
      "{'phi': 0.3, 'K': 1e-12, 'Swr': 0.0, 'Snr': 0.0, 'mun': 0.01, 'muw': 0.0001, 'Pe': 1000.0, 'lambda_': 3.0, 'Si': 0.0, 'S0': 1.0}\n",
      "{'phi': 0.05, 'K': 1e-12, 'Swr': 0.0, 'Snr': 0.3, 'mun': 0.0001, 'muw': 0.0001, 'Pe': 100000.0, 'lambda_': 1.5, 'Si': 0.5, 'S0': 1.0}\n",
      "{'phi': 0.05, 'K': 1e-12, 'Swr': 0.3, 'Snr': 0.0, 'mun': 0.0001, 'muw': 0.01, 'Pe': 1000.0, 'lambda_': 3.0, 'Si': 0.5, 'S0': 1.0}\n",
      "{'phi': 0.05, 'K': 1e-08, 'Swr': 0.0, 'Snr': 0.0, 'mun': 0.01, 'muw': 0.0001, 'Pe': 100000.0, 'lambda_': 3.0, 'Si': 0.5, 'S0': 0.51}\n",
      "{'phi': 0.3, 'K': 1e-12, 'Swr': 0.0, 'Snr': 0.3, 'mun': 0.0001, 'muw': 0.01, 'Pe': 100000.0, 'lambda_': 3.0, 'Si': 0.0, 'S0': 0.51}\n",
      "{'phi': 0.05, 'K': 1e-12, 'Swr': 0.3, 'Snr': 0.0, 'mun': 0.01, 'muw': 0.01, 'Pe': 100000.0, 'lambda_': 1.5, 'Si': 0.0, 'S0': 0.51}\n",
      "{'phi': 0.05, 'K': 1e-08, 'Swr': 0.0, 'Snr': 0.3, 'mun': 0.01, 'muw': 0.01, 'Pe': 1000.0, 'lambda_': 1.5, 'Si': 0.0, 'S0': 1.0}\n",
      "{'phi': 0.3, 'K': 1e-08, 'Swr': 0.3, 'Snr': 0.3, 'mun': 0.01, 'muw': 0.01, 'Pe': 100000.0, 'lambda_': 3.0, 'Si': 0.5, 'S0': 1.0}\n"
     ]
    }
   ],
   "source": [
    "import json\n",
    "\n",
    "replace_info = dict()\n",
    "\n",
    "for index, row in df_OGSTools.iterrows():\n",
    "    if row[\"OGSTools\"] == \"Parameter\":\n",
    "        replace_info[row[\"Key\"]] = row[\"OGSTools\"]\n",
    "    else:\n",
    "        replace_info[row[\"Key\"]] = json.loads(row[\"OGSTools\"])\n",
    "\n",
    "# Add infos for calculated parameter\n",
    "replace_info[\"pci\"] = \"Parameter\"\n",
    "replace_info[\"pc0\"] = \"Parameter\""
   ]
  },
  {
   "cell_type": "markdown",
   "metadata": {},
   "source": [
    "## Numerical solutions\n",
    "\n",
    "For the numerical solution, we compare the Thermal-2-Phase-Hydro-Mechanical (TH2M) and the Two-phase Flow formulation.\n",
    "\n",
    "1. The first step is to create a matching mesh that capture the penetration depth of the wetting fluid. \n",
    "2. Because the OGS models use the capillary pressure as a primary variable, the boundary and initial conditions need to be converted from saturations to pressures.\n",
    "\n",
    "Tip: Pick the parameters you would like to study with the sliders above and run the code blocks below to compare the results of the analytical and numerical model."
   ]
  },
  {
   "cell_type": "code",
   "execution_count": null,
   "metadata": {},
   "outputs": [],
   "source": [
    "# Mesh for TwoPhaseFlowPP\n",
    "\n",
    "depth = 0.5      # penetration depth of the wetting fluid (estimated!)\n",
    "print(f\"penetration depth of the wetting fluid: {depth}\")\n",
    "\n",
    "factor = 5.0   # mesh should be factor times larger than the depth \n",
    "Nel = 100         # number of mesh elements\n",
    "mesh = create_1d_mesh(point_a=(0.0, 0.0, 0.0), point_b=(depth*factor, 0.0, 0.0), num_points=Nel+1, mesh_type=\"line\")\n",
    "mesh.save(r\"mesh_line.vtu\")\n",
    "\n",
    "coords = {'x1': mesh.GetBounds()[0], 'x2': 0.5*mesh.GetBounds()[0]}\n",
    "prj_from_template(coords, \"mcwt.template\", \"mcwt.gml\")\n",
    "\n",
    "\n",
    "    # 1.3 Mesh for TH2M\n",
    "    # mesh = create_1d_mesh(point_a=(0.0, 0.0, 0.0), point_b=(depth*factor, 0.0, 0.0), num_points=Nel+1, mesh_type=\"quad\")\n",
    "    # mesh.save(r\"mesh_quad.vtu\")\n",
    "\n",
    "    # boundary_left, boundary_right = create_boundary_line_meshes(point_a=(0.0, 0.0, 0.0), point_b=(depth*factor, 0.0, 0.0), num_points=Nel+1)\n",
    "    # boundary_left.save(\"boundary_left_test.vtu\")                                   \n",
    "\n",
    "    # Match element numbers in boundary mesh to domain mesh\n",
    "    # !identifySubdomains -m mesh_quad.vtu -- boundary_left_test.vtu"
   ]
  },
  {
   "cell_type": "code",
   "execution_count": null,
   "metadata": {
    "tags": [
     "run"
    ]
   },
   "outputs": [
    {
     "name": "stdout",
     "output_type": "stream",
     "text": [
      "penetration depth of the wetting fluid: 0.7370002578514665\n",
      "2 replacements made.\n",
      "Si = 0.2 -> pci = 8549.879733383485\n",
      "S0 = 0.9 -> pc0 = 5178.720843256431\n"
     ]
    },
    {
     "name": "stderr",
     "output_type": "stream",
     "text": [
      "Der Befehl \"identifySubdomains\" ist entweder falsch geschrieben oder\n",
      "konnte nicht gefunden werden.\n"
     ]
    }
   ],
   "source": [
    "import pyvista as pv\n",
    "from mcwhorter import BrooksCorey, McWhorter\n",
    "from helper import create_1d_mesh, create_boundary_line_meshes\n",
    "from template import prj_from_template\n",
    "import ogstools as ogs\n",
    "from template import prj_from_template\n",
    "\n",
    "#labels = [\"TwoPhaseFlowPP\", \"TH2M\"]\n",
    "labels = [\"TwoPhaseFlowPP\"]\n",
    "results = {l: [] for l in labels}\n",
    "\n",
    "for sim in np.arange(0, num_simulation):\n",
    "\n",
    "    params = {k: vmin if d < 0 else vmax for d, k, vmin, vmax in zip(design[sim,:], parameter, value_min, value_max)}\n",
    "    print(params)\n",
    "\n",
    "    # 2. Calculate capillary pressures  \n",
    "    model = BrooksCorey(params[\"Pe\"], params[\"lambda_\"])\n",
    "    params[\"pci\"] = model.pc(params[\"Si\"])\n",
    "    params[\"pc0\"] = model.pc(params[\"S0\"])\n",
    "\n",
    "    print(f\"Si = {params['Si']} -> pci = {params['pci']}\")\n",
    "    print(f\"S0 = {params['S0']} -> pc0 = {params['pc0']}\")\n",
    "\n",
    "    # 3. Updating the PRJ file and run simulations\n",
    "    #prj_files = [r\"mcWhorter_TwoPhasePP.prj\", r\"mcWhorter_TH2M.prj\"]\n",
    "    prj_files = [r\"mcWhorter_TwoPhasePP.prj\"]\n",
    "\n",
    "    for prj_file in prj_files:\n",
    "        prj = ogs.Project(input_file=prj_file, output_file=prj_file)\n",
    "        for key in params.keys():\n",
    "            try:\n",
    "                if replace_info[key] == \"Parameter\":\n",
    "                    prj.replace_parameter_value(name=key, value=params[key])\n",
    "                else:\n",
    "                    for r in replace_info[key]:\n",
    "                        prj.replace_medium_property_value(mediumid=r[\"medium id\"],\n",
    "                                                        name=r[\"name\"],\n",
    "                                                        value=params[key],\n",
    "                                                        propertytype=r[\"propertytype\"],\n",
    "                                                        valuetag=r[\"valuetag\"])\n",
    "            except:\n",
    "                print(f\"Parameter {key} not found...\")\n",
    "        prj.write_input()        \n",
    "        prj.run_model()\n",
    "    \n",
    "    # 4. Evaluate results\n",
    "    #resultfiles = [\"twophaseflow_test_t_1000.000000.vtu\", \"result_McWhorter_H2_ts_110_t_1000.000000.vtu\"]\n",
    "    resultfiles = [\"twophaseflow_test_t_1000.000000.vtu\"]\n",
    "\n",
    "\n",
    "    for label, resultfile in zip(labels, resultfiles):\n",
    "\n",
    "        mesh = pv.read(resultfile)\n",
    "        Sw=mesh[\"saturation\"]\n",
    "        x=mesh.points[:,0]\n",
    "\n",
    "        ind = np.argsort(x)\n",
    "        x = x[ind]\n",
    "        Sw = Sw[ind]\n",
    "\n",
    "        #results[label].append(np.linalg.norm(Sw - np.interp(x, x_ref, Sw_ref)))\n",
    "        results[label].append(1) #dummy value"
   ]
  },
  {
   "cell_type": "markdown",
   "metadata": {},
   "source": [
    "Finally, we can update the PRJ file and run the simulations."
   ]
  },
  {
   "cell_type": "markdown",
   "metadata": {},
   "source": [
    "## Evaluation and Results"
   ]
  },
  {
   "cell_type": "code",
   "execution_count": null,
   "metadata": {
    "tags": [
     "run"
    ]
   },
   "outputs": [],
   "source": [
    "import matplotlib.pyplot as plt\n",
    "\n",
    "def calculate_effects_and_stddev(design, results):\n",
    "    results = np.array(results)\n",
    "    num_factors = design.shape[1]\n",
    "    effects = []\n",
    "    stddevs = []\n",
    "    for i in range(num_factors):\n",
    "        high = results[design[:, i] == 1]\n",
    "        low = results[design[:, i] == -1]\n",
    "        effect = (high.mean() - low.mean())  # Effekt\n",
    "        stddev = np.sqrt(np.var(high) + np.var(low))  # Standardabweichung\n",
    "        effects.append(effect)\n",
    "        stddevs.append(stddev)\n",
    "    return effects, stddevs\n",
    "\n",
    "def plot_effects_with_errorbars(effects, stddevs, labels, title):\n",
    "   \n",
    "    # sort parameters according to effect size\n",
    "    sorted_indices = np.argsort(np.abs(effects))[::-1]\n",
    "    sorted_effects = np.array(effects)[sorted_indices]\n",
    "    sorted_stddevs = np.array(stddevs)[sorted_indices]\n",
    "    sorted_labels = np.array(labels)[sorted_indices]\n",
    "    \n",
    "    # plot with error bars\n",
    "    plt.bar(sorted_labels, sorted_effects, yerr=sorted_stddevs, capsize=5, color=\"blue\", alpha=0.7)\n",
    "    plt.axhline(0, color=\"black\", linewidth=0.8)\n",
    "    plt.title(title)\n",
    "    plt.ylabel(\"effect size\")\n",
    "    plt.xlabel(\"parameter\")\n",
    "    plt.xticks(rotation=45)\n",
    "    plt.tight_layout()\n",
    "    plt.show()\n",
    "\n",
    "for l in labels:\n",
    "    effects, stddevs = calculate_effects_and_stddev(design, results[l])\n",
    "    plot_effects_with_errorbars(effects, stddevs, labels=parameter, title=l)\n",
    "    plt.show()"
   ]
  },
  {
   "cell_type": "markdown",
   "metadata": {},
   "source": [
    "## Literature\n",
    "\n",
    "- McWhorter, D. B., and D. K. Sunada (1990), Exact integral solutions for two-phase flow, Water Resour. Res., 26(3), 399–413, <cite>[doi:10.1029/WR026i003p00399][1]</cite>. \n",
    "- Radek Fučík, https://mmg.fjfi.cvut.cz/~fucik/index.php?page=exact\n",
    "\n",
    "[1]: https://doi.org/10.1029/WR026i003p00399\n"
   ]
  }
 ],
 "metadata": {
  "kernelspec": {
   "display_name": "python_3.11",
   "language": "python",
   "name": "python3"
  },
  "language_info": {
   "codemirror_mode": {
    "name": "ipython",
    "version": 3
   },
   "file_extension": ".py",
   "mimetype": "text/x-python",
   "name": "python",
   "nbconvert_exporter": "python",
   "pygments_lexer": "ipython3",
   "version": "3.11.7"
  }
 },
 "nbformat": 4,
 "nbformat_minor": 2
}
