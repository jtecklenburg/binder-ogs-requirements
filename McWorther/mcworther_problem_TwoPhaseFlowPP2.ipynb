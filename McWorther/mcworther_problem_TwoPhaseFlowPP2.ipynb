{
 "cells": [
  {
   "cell_type": "markdown",
   "metadata": {},
   "source": [
    "# McWhorter Problem\n",
    "<cite>[McWhorter and Sunada][1]</cite> propose an analytical solution to the two-phase flow equation. A one-dimensional problem was considered which describes the flow of two incompressible, immiscible fluids through a porous medium, where the wetting phase (water) displaces the non-wetting fluid (air or oil) in the horizontal direction (without the influence of gravity).\n",
    "\n",
    "![mcWhorter_concept_schematic.png](figures/mcWhorter_concept.png)\n",
    "\n",
    "[1]: https://doi.org/10.1029/WR026i003p00399"
   ]
  },
  {
   "cell_type": "markdown",
   "metadata": {},
   "source": [
    "### Material and Problem parameter\n",
    "\n",
    "The parameter for this problem are stored in a CSV file. Let's look at the table below. The column \"Key\" shows the parameter name in the PRJ file. The column \"Value\" shows current parameter value. The columns \"Range min\", \"Range max\" and \"Scale\" are used in the next section to define sliders to interact with the analytic solution."
   ]
  },
  {
   "cell_type": "code",
   "execution_count": 33,
   "metadata": {},
   "outputs": [
    {
     "data": {
      "text/html": [
       "\n",
       "        <script type=\"text/javascript\" async\n",
       "            src=\"https://cdnjs.cloudflare.com/ajax/libs/mathjax/2.7.7/MathJax.js?config=TeX-MML-AM_CHTML\">\n",
       "        </script>\n",
       "        <table border=\"1\" class=\"dataframe\">\n",
       "  <thead>\n",
       "    <tr style=\"text-align: right;\">\n",
       "      <th>Property</th>\n",
       "      <th>Symbol</th>\n",
       "      <th>Key</th>\n",
       "      <th>Value</th>\n",
       "      <th>Range min</th>\n",
       "      <th>Range max</th>\n",
       "      <th>Scale</th>\n",
       "      <th>Unit</th>\n",
       "    </tr>\n",
       "  </thead>\n",
       "  <tbody>\n",
       "    <tr>\n",
       "      <td>Porosity</td>\n",
       "      <td><div style='text-align: center;'>$$ \\varphi $$</div></td>\n",
       "      <td>phi</td>\n",
       "      <td>0.3</td>\n",
       "      <td>0.05</td>\n",
       "      <td>0.3</td>\n",
       "      <td>linear</td>\n",
       "      <td>1</td>\n",
       "    </tr>\n",
       "    <tr>\n",
       "      <td>Intrinsic permeability</td>\n",
       "      <td><div style='text-align: center;'>$$ K $$</div></td>\n",
       "      <td>K</td>\n",
       "      <td>1.0000e-10</td>\n",
       "      <td>1.0000e-12</td>\n",
       "      <td>1.0000e-08</td>\n",
       "      <td>log</td>\n",
       "      <td>m²</td>\n",
       "    </tr>\n",
       "    <tr>\n",
       "      <td>Residual saturation of the wetting phase</td>\n",
       "      <td><div style='text-align: center;'>$$ S_L^{res} $$</div></td>\n",
       "      <td>Swr</td>\n",
       "      <td>0.02</td>\n",
       "      <td>0.0</td>\n",
       "      <td>0.3</td>\n",
       "      <td>linear</td>\n",
       "      <td>1</td>\n",
       "    </tr>\n",
       "    <tr>\n",
       "      <td>Residual saturation of the non-wetting phase</td>\n",
       "      <td><div style='text-align: center;'>$$ S_G^{res} $$</div></td>\n",
       "      <td>Snr</td>\n",
       "      <td>0.001</td>\n",
       "      <td>0.0</td>\n",
       "      <td>0.3</td>\n",
       "      <td>linear</td>\n",
       "      <td>1</td>\n",
       "    </tr>\n",
       "    <tr>\n",
       "      <td>Dynamic viscosity of the wetting phase</td>\n",
       "      <td><div style='text-align: center;'>$$ \\mu_L $$</div></td>\n",
       "      <td>mun</td>\n",
       "      <td>0.001</td>\n",
       "      <td>0.0001</td>\n",
       "      <td>0.01</td>\n",
       "      <td>log</td>\n",
       "      <td>Pa&middot;s</td>\n",
       "    </tr>\n",
       "    <tr>\n",
       "      <td>Dynamic viscosity of the non-wetting pha</td>\n",
       "      <td><div style='text-align: center;'>$$ \\mu_G $$</div></td>\n",
       "      <td>muw</td>\n",
       "      <td>0.001</td>\n",
       "      <td>0.0001</td>\n",
       "      <td>0.01</td>\n",
       "      <td>log</td>\n",
       "      <td>Pa&middot;s</td>\n",
       "    </tr>\n",
       "    <tr>\n",
       "      <td>Brooks and Corey model parameter: entry pressure</td>\n",
       "      <td><div style='text-align: center;'>$$ p_b $$</div></td>\n",
       "      <td>Pe</td>\n",
       "      <td>5000</td>\n",
       "      <td>1000</td>\n",
       "      <td>100000</td>\n",
       "      <td>log</td>\n",
       "      <td>Pa</td>\n",
       "    </tr>\n",
       "    <tr>\n",
       "      <td>Brooks and Corey model parameter: pore size distribution index</td>\n",
       "      <td><div style='text-align: center;'>$$ \\lambda $$</div></td>\n",
       "      <td>lambda_</td>\n",
       "      <td>3</td>\n",
       "      <td>1.5</td>\n",
       "      <td>3</td>\n",
       "      <td>linear</td>\n",
       "      <td>1</td>\n",
       "    </tr>\n",
       "    <tr>\n",
       "      <td>Initial saturation</td>\n",
       "      <td><div style='text-align: center;'>$$ S_L(t=0) $$</div></td>\n",
       "      <td>Si</td>\n",
       "      <td>0.2</td>\n",
       "      <td>0.0</td>\n",
       "      <td>0.5</td>\n",
       "      <td>linear</td>\n",
       "      <td>1</td>\n",
       "    </tr>\n",
       "    <tr>\n",
       "      <td>Injection boundary saturation</td>\n",
       "      <td><div style='text-align: center;'>$$ S_L(x=0) $$</div></td>\n",
       "      <td>S0</td>\n",
       "      <td>0.9</td>\n",
       "      <td>0.51</td>\n",
       "      <td>1</td>\n",
       "      <td>linear</td>\n",
       "      <td>1</td>\n",
       "    </tr>\n",
       "  </tbody>\n",
       "</table>"
      ],
      "text/plain": [
       "<IPython.core.display.HTML object>"
      ]
     },
     "metadata": {},
     "output_type": "display_data"
    },
    {
     "data": {
      "application/javascript": "\n        if (window.MathJax) {\n            MathJax.Hub.Queue([\"Typeset\", MathJax.Hub]);\n        }\n    ",
      "text/plain": [
       "<IPython.core.display.Javascript object>"
      ]
     },
     "metadata": {},
     "output_type": "display_data"
    }
   ],
   "source": [
    "from helper import render_latex_table\n",
    "import pandas as pd\n",
    "\n",
    "df = pd.read_csv(\"parameter.csv\", quotechar=\"'\")\n",
    "\n",
    "# We look at this column later\n",
    "df_OGSTools = df[[\"Key\", \"OGSTools\"]]\n",
    "df.drop('OGSTools', axis=1, inplace=True)\n",
    "\n",
    "render_latex_table(df, latex_column=\"Symbol\")"
   ]
  },
  {
   "cell_type": "markdown",
   "metadata": {},
   "source": [
    "## Analytical solution\n",
    "The analytical solution is calculated according to <cite>[McWhorter and Sunada][1]</cite>. The intial saturation is Si in the domain. At $t=0$ the saturation at $x=0$ becomes S0. The analytical solution is calculated for $t=1000$ s.\n",
    "\n",
    "[1]: https://doi.org/10.1029/WR026i003p00399"
   ]
  },
  {
   "cell_type": "code",
   "execution_count": 34,
   "metadata": {},
   "outputs": [
    {
     "data": {
      "application/vnd.jupyter.widget-view+json": {
       "model_id": "cbb6e876ea514dc2be12a441883eb667",
       "version_major": 2,
       "version_minor": 0
      },
      "text/plain": [
       "Output()"
      ]
     },
     "metadata": {},
     "output_type": "display_data"
    },
    {
     "data": {
      "application/vnd.jupyter.widget-view+json": {
       "model_id": "4b7b0b77c42243a294c2bacd0a3e4763",
       "version_major": 2,
       "version_minor": 0
      },
      "text/plain": [
       "VBox(children=(FloatSlider(value=0.3, description='phi', max=0.3, min=0.05, step=0.01), FloatLogSlider(value=1…"
      ]
     },
     "metadata": {},
     "output_type": "display_data"
    }
   ],
   "source": [
    "from mcworther import BrooksCorey, McWorther\n",
    "import numpy as np\n",
    "import ipywidgets as widgets\n",
    "from IPython.display import display\n",
    "\n",
    "def plot_f(mun, muw, K, phi, lambda_, Pe, S0, Si, **kwargs):\n",
    "    model = BrooksCorey(Pe, lambda_)\n",
    "    problem = McWorther(model, phi, K, muw, mun, S0, Si)\n",
    "    problem.plot_solution()\n",
    "\n",
    "# Erstellen von Schiebereglern für interaktive Plots basierend auf dem DataFrame\n",
    "sliders = {}\n",
    "for idx, row in df.iterrows():\n",
    "    key = row['Key']\n",
    "    if row['Scale'] == \"log\":\n",
    "        sliders[key] = widgets.FloatLogSlider(\n",
    "            value=row['Value'], base=10, min=np.log10(row['Range min']),\n",
    "            max=np.log10(row['Range max']), step=0.01, description=key\n",
    "        )\n",
    "    else:\n",
    "        sliders[key] = widgets.FloatSlider(\n",
    "            value=row['Value'], min=row['Range min'], max=row['Range max'],\n",
    "            step=0.01, description=key\n",
    "        )\n",
    "\n",
    "# Darstellung der Schieberegler und des Plots\n",
    "ui = widgets.VBox(list(sliders.values()))\n",
    "out = widgets.interactive_output(plot_f, sliders)\n",
    "display(out)\n",
    "display(ui)\n"
   ]
  },
  {
   "cell_type": "markdown",
   "metadata": {},
   "source": [
    "## Numerical solutions\n",
    "\n",
    "For the numerical solution, we compare the Thermal-2-Phase-Hydro-Mechanical (TH2M) and the Two-phase Flow formulation.\n",
    "\n",
    "1. The first step is to create a matching mesh that capture the penetration depth of the wetting fluid. \n",
    "2. Because the OGS models use the capillary pressure as a primary variable, the boundary and initial conditions need to be converted from saturations to pressures.\n",
    "\n",
    "Tip: Pick the parameters you would like to study with the sliders above and run the code blocks below to compare the results of the analytical and numerical model."
   ]
  },
  {
   "cell_type": "code",
   "execution_count": null,
   "metadata": {},
   "outputs": [
    {
     "name": "stdout",
     "output_type": "stream",
     "text": [
      "penetration depth of the wetting fluid: 0.7370002578514665\n",
      "2 replacements made.\n",
      "8549.879733383485\n",
      "5178.720843256431\n"
     ]
    }
   ],
   "source": [
    "import pyvista as pv\n",
    "from helper import create_1d_mesh, create_boundary_line_meshes\n",
    "from template import prj_from_template\n",
    "\n",
    "#parameters defined by the current slider settings\n",
    "params = {k: v.value for k, v in sliders.items()}\n",
    "\n",
    "#calculate analytical solution with the \n",
    "model = BrooksCorey(params[\"Pe\"], params[\"lambda_\"])\n",
    "problem = McWorther(model, params[\"phi\"], params[\"K\"], params[\"muw\"], params[\"mun\"], params[\"S0\"], params[\"Si\"])\n",
    "x_ref, Sw_ref = problem.get_solution()\n",
    "\n",
    "# 1. Create meshes according to the penetration depth of the wetting fluid\n",
    "\n",
    "depth = max(x_ref)      # penetration depth of the wetting fluid\n",
    "factor = 5.0   # mesh should be factor times larger than the depth \n",
    "Nel = 100         # number of mesh elements\n",
    "\n",
    "print(f\"penetration depth of the wetting fluid: {depth}\")\n",
    "\n",
    "# 1.1 Mesh for TwoPhaseFlowPP\n",
    "mesh = create_1d_mesh(point_a=(0.0, 0.0, 0.0), point_b=(depth*factor, 0.0, 0.0), num_points=Nel+1, mesh_type=\"line\")\n",
    "mesh.save(r\"mesh_line.vtu\")\n",
    "\n",
    "coords = {'x1': mesh.GetBounds()[0], 'x2': 0.5*mesh.GetBounds()[0]}\n",
    "prj_from_template(coords, \"mcwt.template\", \"mcwt.gml\")\n",
    "\n",
    "# 1.2 Mesh for TH2M\n",
    "mesh = create_1d_mesh(point_a=(0.0, 0.0, 0.0), point_b=(depth*factor, 0.0, 0.0), num_points=Nel+1, mesh_type=\"quad\")\n",
    "mesh.save(r\"mesh_quad.vtu\")\n",
    "\n",
    "boundary_left, boundary_right = create_boundary_line_meshes(point_a=(0.0, 0.0, 0.0), point_b=(depth*factor, 0.0, 0.0), num_points=Nel+1)\n",
    "boundary_left.save(\"boundary_left_test.vtu\")                                   \n",
    "\n",
    "#!checkMesh -v mesh_quad.vtu\n",
    "#!identifySubdomains -m mesh_quad.vtu -- boundary_left_test.vtu\n",
    "#!checkMesh -v boundary_left_test.vtu\n",
    "\n",
    "\n",
    "# 2. Calculate capillary pressures  \n",
    "params[\"pci\"] = model.pc(params[\"Si\"])\n",
    "params[\"pc0\"] = model.pc(params[\"S0\"])\n",
    "\n",
    "print(f\"Si = {params[\"Si\"]} -> pci = {params[\"pci\"]}\")\n",
    "print(f\"S0 = {params[\"S0\"]} -> pc0 = {params[\"pc0\"]}\")"
   ]
  },
  {
   "cell_type": "markdown",
   "metadata": {},
   "source": [
    "Now we can update the PRJ files and run the simulations."
   ]
  },
  {
   "cell_type": "code",
   "execution_count": null,
   "metadata": {},
   "outputs": [],
   "source": [
    "import json\n",
    "\n",
    "replace_info = dict()\n",
    "\n",
    "for index, row in df_OGSTools.iterrows():\n",
    "    if row[\"OGSTools\"] == \"Parameter\":\n",
    "        replace_info[row[\"Key\"]] = row[\"OGSTools\"]\n",
    "    else:\n",
    "        replace_info[row[\"Key\"]] = json.loads(row[\"OGSTools\"])\n",
    "\n",
    "# Add infos for calculated parameter\n",
    "replace_info[\"pci\"] = \"Parameter\"\n",
    "replace_info[\"pc0\"] = \"Parameter\""
   ]
  },
  {
   "cell_type": "code",
   "execution_count": 37,
   "metadata": {},
   "outputs": [
    {
     "ename": "ModuleNotFoundError",
     "evalue": "No module named 'ogstools'",
     "output_type": "error",
     "traceback": [
      "\u001b[1;31m---------------------------------------------------------------------------\u001b[0m",
      "\u001b[1;31mModuleNotFoundError\u001b[0m                       Traceback (most recent call last)",
      "Cell \u001b[1;32mIn[37], line 1\u001b[0m\n\u001b[1;32m----> 1\u001b[0m \u001b[38;5;28;01mimport\u001b[39;00m \u001b[38;5;21;01mogstools\u001b[39;00m \u001b[38;5;28;01mas\u001b[39;00m \u001b[38;5;21;01mogs\u001b[39;00m\n\u001b[0;32m      2\u001b[0m \u001b[38;5;28;01mfrom\u001b[39;00m \u001b[38;5;21;01mtemplate\u001b[39;00m \u001b[38;5;28;01mimport\u001b[39;00m prj_from_template\n\u001b[0;32m      4\u001b[0m \u001b[38;5;66;03m# Simulate problem with TwoPhaseFlowPP and TH2M\u001b[39;00m\n",
      "\u001b[1;31mModuleNotFoundError\u001b[0m: No module named 'ogstools'"
     ]
    }
   ],
   "source": [
    "import ogstools as ogs\n",
    "from template import prj_from_template\n",
    "\n",
    "# Simulate problem with TwoPhaseFlowPP and TH2M\n",
    "prj_files = [r\"mcWhorter_TwoPhasePP.prj\", r\"mcWhorter_TH2M.prj\"]\n",
    "\n",
    "for prj_file in prj_files:\n",
    "    prj = ogs.Project(input_file=prj_file, output_file=prj_file)\n",
    "    for key in params.keys():\n",
    "        try:\n",
    "            if replace_info[key] == \"Parameter\":\n",
    "                prj.replace_parameter_value(name=key, value=params[key])\n",
    "            else:\n",
    "                for r in replace_info[key]:\n",
    "                    prj.replace_medium_property_value(mediumid=r[\"medium id\"],\n",
    "                                                      name=r[\"name\"],\n",
    "                                                      value=params[key],\n",
    "                                                      valuetag=r[\"valuetag\"])\n",
    "        except:\n",
    "            print(f\"Parameter {key} not found...\")\n",
    "    prj.write_input()        \n",
    "    prj.run_model()"
   ]
  },
  {
   "cell_type": "markdown",
   "metadata": {},
   "source": [
    "## Evaluation and Results"
   ]
  },
  {
   "cell_type": "code",
   "execution_count": null,
   "metadata": {},
   "outputs": [],
   "source": [
    "import numpy as np\n",
    "import pyvista as pv\n",
    "from helper import plot_with_error\n",
    "\n",
    "# 1. Plot analytical solution\n",
    "plotter = plot_with_error(x_ref, Sw_ref, \"C0-\",\n",
    "                          \"Analytical solution\",\n",
    "                          \"Distance $x$ (m)\",\n",
    "                          \"Wetting saturation $S_w$ (-)\",\n",
    "                          \"Error (Numerical - Analytical) (-)\")\n",
    "\n",
    "# 2. Read results from TwoPhaseFlowPP\n",
    "labels = [\"TwoPhaseFlowPP\", \"TH2M\"]\n",
    "results = [\"twophaseflow_test_t_1000.000000.vtu\", \"result_McWhorter_H2_ts_110_t_1000.000000.vtu\"]\n",
    "\n",
    "i = 1\n",
    "for label, result in zip(labels, results):\n",
    "\n",
    "    mesh = pv.read(result)\n",
    "    print(mesh.point_data.keys())\n",
    "\n",
    "    Sw=mesh[\"saturation\"]\n",
    "    x=mesh.points[:,0]\n",
    "\n",
    "    ind = np.argsort(x)\n",
    "    x = x[ind]\n",
    "    Sw = Sw[ind]\n",
    "\n",
    "    plotter.append(x, Sw, f\"C{i}x\", label)\n",
    "    i = i + 1 \n",
    "\n",
    "# show plot\n",
    "\n",
    "plotter.plot([0, depth*1.2])"
   ]
  },
  {
   "cell_type": "markdown",
   "metadata": {},
   "source": [
    "## Literature\n",
    "\n",
    "McWhorter, D. B., and D. K. Sunada (1990), Exact integral solutions for two-phase flow, Water Resour. Res., 26(3), 399–413, <cite>[doi:10.1029/WR026i003p00399][1]</cite>. \n",
    "\n",
    "[1]: https://doi.org/10.1029/WR026i003p00399\n"
   ]
  }
 ],
 "metadata": {
  "kernelspec": {
   "display_name": "python_3.11",
   "language": "python",
   "name": "python3"
  },
  "language_info": {
   "codemirror_mode": {
    "name": "ipython",
    "version": 3
   },
   "file_extension": ".py",
   "mimetype": "text/x-python",
   "name": "python",
   "nbconvert_exporter": "python",
   "pygments_lexer": "ipython3",
   "version": "3.11.7"
  }
 },
 "nbformat": 4,
 "nbformat_minor": 2
}
