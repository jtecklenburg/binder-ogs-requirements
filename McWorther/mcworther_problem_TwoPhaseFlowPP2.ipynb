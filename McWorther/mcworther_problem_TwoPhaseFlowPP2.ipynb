{
 "cells": [
  {
   "cell_type": "markdown",
   "metadata": {},
   "source": [
    "# McWhorter Problem\n",
    "<cite>[McWhorter and Sunada][1]</cite> propose an analytical solution to the two-phase flow equation. A one-dimensional problem was considered which describes the flow of two incompressible, immiscible fluids through a porous medium, where the wetting phase (water) displaces the non-wetting fluid (air or oil) in the horizontal direction (without the influence of gravity).\n",
    "\n",
    "![mcWhorter_concept_schematic.png](figures/mcWhorter_concept.png)\n",
    "\n",
    "### Material Parameters\n",
    "\n",
    "| Property  | Symbol | Value | Unit |\n",
    "|----------:|:------:|-------|------|\n",
    "| Porosity | $\\phi$ | $$0.15$$ | 1 |\n",
    "| Intrinsic permeability | $K$ | $$1.0\\cdot 10^{-10}$$ | $m^2$|\n",
    "| Residual saturation of the wetting phase | $$s_\\mathrm{L}^{res}$$ | $$0.02$$ | 1 |\n",
    "| Residual saturation of the non-wetting phase | $$s_\\mathrm{G}^{res}$$ | $$0.001$$ | 1 |\n",
    "| Dynamic viscosity of the wetting phase\t|$\\mu_\\mathrm{L}$|$$1.0\\cdot 10^{-3}$$|Pa s|\n",
    "| Dynamic viscosity of the non-wetting pha  |$\\mu_\\mathrm{G}$  |$$5.0\\cdot 10^{-3}$$|Pa s|\n",
    "| Brooks and Corey model parameter: entry pressure | $p_b$ | $$5000$$| Pa |\n",
    "| Brooks and Corey model parameter: pore size distribution index |$\\lambda$ | $$3.0$$ | 1 |\n",
    "\n",
    "### Problem Parameters\n",
    "\n",
    "| Property  | Symbol | Value | Unit |\n",
    "|----------:|:------:|-------|------|\n",
    "| Initial saturation | $$s_\\mathrm{L}(t=0)$$ | 0.05 | 1 |\n",
    "| Injection boundary saturation | $$s_\\mathrm{L}(x=0)$$ | 0.8 | 1 |\n",
    "\n",
    "\n",
    "[1]: https://doi.org/10.1029/WR026i003p00399"
   ]
  },
  {
   "cell_type": "code",
   "execution_count": 1,
   "metadata": {},
   "outputs": [],
   "source": [
    "param = {\"mun\": 1.e-3,\n",
    "         \"muw\": 1.e-3,\n",
    "         \"K\": 1e-10,\n",
    "         \"phi\": 0.3,\n",
    "         \"lambda_\": 2,\n",
    "         \"Pe\": 5000,\n",
    "         \"S0\": 0.9,\n",
    "         \"Si\": 0.2}\n",
    "\n",
    "range = {\"mun\": (0.1, 1.e4),\n",
    "         \"muw\": (0.1, 1.e4),\n",
    "         \"K\": (1e-12, 1e-8),\n",
    "         \"phi\": (0.05, 0.3),\n",
    "         \"lambda_\": (1.5, 3),\n",
    "         \"Pe\": (1e3, 1e5),\n",
    "         \"S0\": (0.51, 1),\n",
    "         \"Si\": (0, 0.5)}\n",
    "\n",
    "scale = {\"mun\": \"log\",\n",
    "         \"muw\": \"log\",\n",
    "         \"K\": \"log\",\n",
    "         \"phi\": \"linear\",\n",
    "         \"lambda_\": \"linear\",\n",
    "         \"Pe\": \"log\",\n",
    "         \"S0\": \"linear\",\n",
    "         \"Si\": \"linear\"}"
   ]
  },
  {
   "cell_type": "markdown",
   "metadata": {},
   "source": [
    "## Analytical solution\n",
    "The analytical solution is calculated according to <cite>[McWhorter and Sunada][1]</cite>.\n",
    "\n",
    "[1]: https://doi.org/10.1029/WR026i003p00399"
   ]
  },
  {
   "cell_type": "code",
   "execution_count": 2,
   "metadata": {},
   "outputs": [
    {
     "data": {
      "application/vnd.jupyter.widget-view+json": {
       "model_id": "8770b393c3b948b6800e7d22b2fee3bc",
       "version_major": 2,
       "version_minor": 0
      },
      "text/plain": [
       "Output()"
      ]
     },
     "metadata": {},
     "output_type": "display_data"
    },
    {
     "data": {
      "application/vnd.jupyter.widget-view+json": {
       "model_id": "9a606e696a384760b55729e69df1a50d",
       "version_major": 2,
       "version_minor": 0
      },
      "text/plain": [
       "VBox(children=(FloatLogSlider(value=0.1, description='mun', min=-1.0, step=0.01), FloatLogSlider(value=0.1, de…"
      ]
     },
     "metadata": {},
     "output_type": "display_data"
    }
   ],
   "source": [
    "from mcworther import BrooksCorey, McWorther\n",
    "\n",
    "import numpy as np\n",
    "import matplotlib.pyplot as plt\n",
    "import ipywidgets as widgets\n",
    "from IPython.display import display\n",
    "\n",
    "def plot_f(mun, muw, K, phi, lambda_, Pe, S0, Si):\n",
    "    model = BrooksCorey(Pe, lambda_)\n",
    "    problem = McWorther(model, phi, K, muw, mun, S0, Si)\n",
    "    problem.plot_solution()\n",
    "\n",
    "# Create Sliders for interactive plot\n",
    "sliders = {}\n",
    "for key in param.keys():\n",
    "    if scale[key] == \"log\":\n",
    "        sliders[key] = widgets.FloatLogSlider(\n",
    "            value=param[key], base=10, min=np.log10(range[key][0]),\n",
    "            max=np.log10(range[key][1]), step=0.01, description=key\n",
    "        )\n",
    "    else:\n",
    "        sliders[key] = widgets.FloatSlider(\n",
    "            value=param[key], min=range[key][0], max=range[key][1],\n",
    "            step=0.01, description=key\n",
    "        )\n",
    "\n",
    "# Show plot and sliders\n",
    "ui = widgets.VBox(list(sliders.values()))\n",
    "out = widgets.interactive_output(plot_f, sliders)\n",
    "#layout = widgets.HBox([out, ui])\n",
    "#display(layout)\n",
    "\n",
    "display(out)\n",
    "display(ui)"
   ]
  },
  {
   "cell_type": "markdown",
   "metadata": {},
   "source": [
    "## Numerical solutions\n",
    "\n",
    "For the numerical solution, we compare the Thermal-2-Phase-Hydro-Mechanical (TH2M) and the Two-phase Flow formulation.\n",
    "\n",
    "The first step is to create a matching mesh that capture the penetration depth of the wetting fluid. "
   ]
  },
  {
   "cell_type": "code",
   "execution_count": null,
   "metadata": {},
   "outputs": [
    {
     "name": "stdout",
     "output_type": "stream",
     "text": [
      "penetration depth of the wetting fluid: 0.08369312905953712\n"
     ]
    }
   ],
   "source": [
    "import pyvista as pv\n",
    "from helper import mesh1d\n",
    "\n",
    "#parameters defined by the current slider settings\n",
    "params = {k: v.value for k, v in sliders.items()}\n",
    "\n",
    "#calculate analytical solution with the \n",
    "model = BrooksCorey(params[\"Pe\"], params[\"lambda_\"])\n",
    "problem = McWorther(model, params[\"phi\"], params[\"K\"], params[\"muw\"], params[\"mun\"], params[\"S0\"], params[\"Si\"])\n",
    "x_ref, Sw_ref = problem.get_solution()\n",
    "\n",
    "depth = max(x_ref)      # penetration depth of the wetting fluid\n",
    "factor = 5.0   # mesh should be factor times larger than the depth \n",
    "Nel = 100         # number of mesh elements\n",
    "\n",
    "print(f\"penetration depth of the wetting fluid: {depth}\")\n",
    "\n",
    "mesh = mesh1d(point_a=(0.0, 0.0, 0.0), point_b=(depth*factor, 0.0, 0.0), num_points=Nel+1)\n",
    "mesh = pv.UnstructuredGrid(mesh)\n",
    "mesh.save(r\"mesh.vtu\")\n",
    "\n",
    "coords = {'x1': depth*factor, 'x2': 0.5*depth*factor}\n",
    "prj_from_template(coords, [\"mcwt.template\"], [\"mcwt.gml\"])"
   ]
  },
  {
   "cell_type": "markdown",
   "metadata": {},
   "source": [
    "Because the OGS models use the capillary pressure as a primary variable, the boundary and initial conditions need to be converted from saturations to pressures."
   ]
  },
  {
   "cell_type": "code",
   "execution_count": 4,
   "metadata": {},
   "outputs": [],
   "source": [
    "param[\"pci\"] = model.pc(param[\"Si\"])\n",
    "param[\"pc0\"] = model.pc(param[\"S0\"])"
   ]
  },
  {
   "cell_type": "code",
   "execution_count": 5,
   "metadata": {},
   "outputs": [
    {
     "ename": "ModuleNotFoundError",
     "evalue": "No module named 'ogstools'",
     "output_type": "error",
     "traceback": [
      "\u001b[1;31m---------------------------------------------------------------------------\u001b[0m",
      "\u001b[1;31mModuleNotFoundError\u001b[0m                       Traceback (most recent call last)",
      "Cell \u001b[1;32mIn[5], line 1\u001b[0m\n\u001b[1;32m----> 1\u001b[0m \u001b[38;5;28;01mimport\u001b[39;00m \u001b[38;5;21;01mogstools\u001b[39;00m \u001b[38;5;28;01mas\u001b[39;00m \u001b[38;5;21;01mogs\u001b[39;00m\n\u001b[0;32m      2\u001b[0m \u001b[38;5;28;01mfrom\u001b[39;00m \u001b[38;5;21;01mtemplate\u001b[39;00m \u001b[38;5;28;01mimport\u001b[39;00m prj_from_template\n\u001b[0;32m      4\u001b[0m \u001b[38;5;66;03m# Simulate problem with TwoPhaseFlowPP and TH2M\u001b[39;00m\n\u001b[0;32m      5\u001b[0m \n\u001b[0;32m      6\u001b[0m \u001b[38;5;66;03m# template_files = [r\"TwoPhase_mcwt_line.template\", r\"mcWorther_h2.template\"]\u001b[39;00m\n\u001b[0;32m      7\u001b[0m \u001b[38;5;66;03m# prj_files = [r\"TwoPhase_mcwt_line_test.prj\", r\"mcWorther_h2_test.prj\"]\u001b[39;00m\n",
      "\u001b[1;31mModuleNotFoundError\u001b[0m: No module named 'ogstools'"
     ]
    }
   ],
   "source": [
    "import ogstools as ogs\n",
    "from template import prj_from_template\n",
    "\n",
    "# Simulate problem with TwoPhaseFlowPP and TH2M\n",
    "\n",
    "# template_files = [r\"TwoPhase_mcwt_line.template\", r\"mcWorther_h2.template\"]\n",
    "# prj_files = [r\"TwoPhase_mcwt_line_test.prj\", r\"mcWorther_h2_test.prj\"]\n",
    "\n",
    "template_files = [r\"TwoPhase_mcwt_line.template\"]\n",
    "prj_files = [r\"TwoPhase_mcwt_line_test.prj\"]\n",
    "\n",
    "\n",
    "for template_file, prj_file in zip(template_files, prj_files):\n",
    "    prj_from_template(param, template_file, prj_file)\n",
    "    prj = ogs.Project(input_file=prj_file, output_file=prj_file)\n",
    "    prj.run_model()"
   ]
  },
  {
   "cell_type": "markdown",
   "metadata": {},
   "source": [
    "## Evaluation and Results"
   ]
  },
  {
   "cell_type": "code",
   "execution_count": null,
   "metadata": {},
   "outputs": [],
   "source": [
    "import numpy as np\n",
    "import pyvista as pv\n",
    "from helper import plot_with_error\n",
    "\n",
    "\n",
    "# 1. Plot analytical solution\n",
    "plotter = plot_with_error(x_ref, Sw_ref, \"C0-\",\n",
    "                          \"Analytical solution\",\n",
    "                          \"Distance $x$ (m)\",\n",
    "                          \"Wetting saturation $S_w$ (-)\",\n",
    "                          \"Error (Numerical - Analytical) (-)\")\n",
    "\n",
    "# 2. Read results from TwoPhaseFlowPP\n",
    "\n",
    "#labels = [\"TwoPhaseFlowPP\", \"TH2M\"]\n",
    "#results = [\"twophaseflow_test_t_1000.000000.vtu\", \"mcWhorter_h2_newton_ts_110_t_1000.000000.vtu\"]\n",
    "\n",
    "labels = [\"TwoPhaseFlowPP\"]\n",
    "results = [\"twophaseflow_test_t_1000.000000.vtu\"]\n",
    "\n",
    "\n",
    "i = 1\n",
    "for label, result in zip(labels, results):\n",
    "\n",
    "    mesh = pv.read(result)\n",
    "    print(mesh.point_data.keys())\n",
    "\n",
    "    Sw=mesh[\"saturation\"]\n",
    "    x=mesh.points[:,0]\n",
    "\n",
    "    ind = np.argsort(x)\n",
    "    x = x[ind]\n",
    "    Sw = Sw[ind]\n",
    "\n",
    "    plotter.append(x, Sw, f\"C{i}x\", label)\n",
    "    i = i + 1 \n",
    "\n",
    "# show plot\n",
    "\n",
    "plotter.plot([0, depth*1.2])"
   ]
  },
  {
   "cell_type": "markdown",
   "metadata": {},
   "source": [
    "## Literature\n",
    "\n",
    "McWhorter, D. B., and D. K. Sunada (1990), Exact integral solutions for two-phase flow, Water Resour. Res., 26(3), 399–413, <cite>[doi:10.1029/WR026i003p00399][1]</cite>. \n",
    "\n",
    "[1]: https://doi.org/10.1029/WR026i003p00399\n"
   ]
  }
 ],
 "metadata": {
  "kernelspec": {
   "display_name": "python_3.11",
   "language": "python",
   "name": "python3"
  },
  "language_info": {
   "codemirror_mode": {
    "name": "ipython",
    "version": 3
   },
   "file_extension": ".py",
   "mimetype": "text/x-python",
   "name": "python",
   "nbconvert_exporter": "python",
   "pygments_lexer": "ipython3",
   "version": "3.11.7"
  }
 },
 "nbformat": 4,
 "nbformat_minor": 2
}
