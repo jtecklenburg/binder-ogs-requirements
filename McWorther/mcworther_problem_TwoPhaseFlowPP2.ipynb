{
 "cells": [
  {
   "cell_type": "markdown",
   "metadata": {},
   "source": [
    "# McWhorter Problem\n",
    "<cite>[McWhorter and Sunada][1]</cite> propose an analytical solution to the two-phase flow equation. A one-dimensional problem was considered which describes the flow of two incompressible, immiscible fluids through a porous medium, where the wetting phase (water) displaces the non-wetting fluid (air or oil) in the horizontal direction (without the influence of gravity).\n",
    "\n",
    "![mcWhorter_concept_schematic.png](figures/mcWhorter_concept.png)\n",
    "\n",
    "### Material Parameters\n",
    "\n",
    "| Property  | Symbol | Value | Unit |\n",
    "|----------:|:------:|-------|------|\n",
    "| Porosity | $\\phi$ | $$0.15$$ | 1 |\n",
    "| Intrinsic permeability | $K$ | $$1.0\\cdot 10^{-10}$$ | $m^2$|\n",
    "| Residual saturation of the wetting phase | $$s_\\mathrm{L}^{res}$$ | $$0.02$$ | 1 |\n",
    "| Residual saturation of the non-wetting phase | $$s_\\mathrm{G}^{res}$$ | $$0.001$$ | 1 |\n",
    "| Dynamic viscosity of the wetting phase\t|$\\mu_\\mathrm{L}$|$$1.0\\cdot 10^{-3}$$|Pa s|\n",
    "| Dynamic viscosity of the non-wetting pha  |$\\mu_\\mathrm{G}$  |$$5.0\\cdot 10^{-3}$$|Pa s|\n",
    "| Brooks and Corey model parameter: entry pressure | $p_b$ | $$5000$$| Pa |\n",
    "| Brooks and Corey model parameter: pore size distribution index |$\\lambda$ | $$3.0$$ | 1 |\n",
    "\n",
    "### Problem Parameters\n",
    "\n",
    "| Property  | Symbol | Value | Unit |\n",
    "|----------:|:------:|-------|------|\n",
    "| Initial saturation | $$s_\\mathrm{L}(t=0)$$ | 0.05 | 1 |\n",
    "| Injection boundary saturation | $$s_\\mathrm{L}(x=0)$$ | 0.8 | 1 |\n",
    "\n",
    "\n",
    "[1]: https://doi.org/10.1029/WR026i003p00399"
   ]
  },
  {
   "cell_type": "code",
   "execution_count": 3,
   "metadata": {},
   "outputs": [],
   "source": [
    "param = {\"mun\": 1.e-3,\n",
    "         \"muw\": 1.e-3,\n",
    "         \"K\": 1e-10,\n",
    "         \"phi\": 0.3,\n",
    "         \"lambda\": 2,\n",
    "         \"Pe\": 5000,\n",
    "         \"pc0\": 5000.0,\n",
    "         \"pci\": 5.e4}"
   ]
  },
  {
   "cell_type": "markdown",
   "metadata": {},
   "source": [
    "## Analytical solution\n",
    "The analytical solution is calculated according to <cite>[McWhorter and Sunada][1]</cite>.\n",
    "\n",
    "[1]: https://doi.org/10.1029/WR026i003p00399"
   ]
  },
  {
   "cell_type": "code",
   "execution_count": null,
   "metadata": {},
   "outputs": [],
   "source": [
    "from mcworther import BrooksCorey, McWorther\n",
    "\n",
    "model = BrooksCorey(pd=param[\"Pe\"], lambda_=param[\"lambda\"])\n",
    "\n",
    "pc_0 = param[\"pc0\"]\n",
    "pc_i = param[\"pci\"]\n",
    "\n",
    "S0 = model.Sw(pc_0)\n",
    "Si = model.Sw(pc_i)\n",
    "\n",
    "print(f\"S0 = {S0}, Si = {Si:.3f}\")\n",
    "\n",
    "problem = McWorther(model, \n",
    "                    phi=param[\"phi\"],\n",
    "                    K=param[\"K\"],\n",
    "                    muw=param[\"muw\"],\n",
    "                    mun=param[\"mun\"],\n",
    "                    S0=S0,\n",
    "                    Si=Si)\n",
    "\n",
    "t_ref, Sw_ref = problem.get_solution()"
   ]
  },
  {
   "cell_type": "markdown",
   "metadata": {},
   "source": [
    "## Numerical solutions\n",
    "\n",
    "For the numerical solution, we compare the Thermal-2-Phase-Hydro-Mechanical (TH2M) and the Two-phase Flow formulation."
   ]
  },
  {
   "cell_type": "code",
   "execution_count": null,
   "metadata": {},
   "outputs": [],
   "source": [
    "import ogstools as ogs\n",
    "from template import prj_from_template\n",
    "\n",
    "# Simulate problem with TwoPhaseFlowPP and TH2M\n",
    "\n",
    "template_files = [r\"TwoPhase_mcwt_line.template\", r\"mcWorther_h2.template\"]\n",
    "prj_files = [r\"TwoPhase_mcwt_line_test.prj\", r\"mcWorther_h2_test.prj\"]\n",
    "\n",
    "for template_file, prj_file in zip(template_files, prj_files):\n",
    "    prj_from_template(param, template_file, prj_file)\n",
    "    prj = ogs.Project(input_file=prj_file, output_file=prj_file)\n",
    "    prj.run_model()"
   ]
  },
  {
   "cell_type": "markdown",
   "metadata": {},
   "source": [
    "## Evaluation and Results"
   ]
  },
  {
   "cell_type": "code",
   "execution_count": null,
   "metadata": {},
   "outputs": [],
   "source": [
    "import numpy as np\n",
    "import pyvista as pv\n",
    "from helper import plot_with_error\n",
    "\n",
    "\n",
    "# 1. Plot analytical solution\n",
    "plotter = plot_with_error(t_ref, Sw_ref, \"C0-\",\n",
    "                          \"Analytical solution\",\n",
    "                          \"Distance $x$ (m)\",\n",
    "                          \"Wetting saturation $S_w$ (-)\",\n",
    "                          \"Error (Numerical - Analytical) (-)\")\n",
    "\n",
    "# 2. Read results from TwoPhaseFlowPP\n",
    "\n",
    "labels = [\"TwoPhaseFlowPP\", \"TH2M\"]\n",
    "results = [\"twophaseflow_test_t_1000.000000.vtu\", \"mcWhorter_h2_newton_ts_110_t_1000.000000.vtu\"]\n",
    "\n",
    "\n",
    "i = 1\n",
    "for label, result in zip(labels, results):\n",
    "\n",
    "    mesh = pv.read(result)\n",
    "    print(mesh.point_data.keys())\n",
    "\n",
    "    Sw=mesh[\"saturation\"]\n",
    "    x=mesh.points[:,0]\n",
    "\n",
    "    ind = np.argsort(x)\n",
    "    x = x[ind]\n",
    "    Sw = Sw[ind]\n",
    "\n",
    "    plotter.append(x, Sw, f\"C{i}x\", label)\n",
    "    i = i + 1 \n",
    "\n",
    "\n",
    "# show plot\n",
    "\n",
    "plotter.plot([0, 0.5])"
   ]
  },
  {
   "cell_type": "markdown",
   "metadata": {},
   "source": [
    "## Literature\n",
    "\n",
    "McWhorter, D. B., and D. K. Sunada (1990), Exact integral solutions for two-phase flow, Water Resour. Res., 26(3), 399–413, <cite>[doi:10.1029/WR026i003p00399][1]</cite>. \n",
    "\n",
    "[1]: https://doi.org/10.1029/WR026i003p00399\n"
   ]
  }
 ],
 "metadata": {
  "kernelspec": {
   "display_name": "python_3.11",
   "language": "python",
   "name": "python3"
  },
  "language_info": {
   "codemirror_mode": {
    "name": "ipython",
    "version": 3
   },
   "file_extension": ".py",
   "mimetype": "text/x-python",
   "name": "python",
   "nbconvert_exporter": "python",
   "pygments_lexer": "ipython3",
   "version": "3.11.7"
  }
 },
 "nbformat": 4,
 "nbformat_minor": 2
}
